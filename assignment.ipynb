{
 "cells": [
  {
   "cell_type": "markdown",
   "id": "e0c7b14a-e5aa-4abc-b48b-b8a9d20dacac",
   "metadata": {},
   "source": [
    "# Assignment: Linear Models\n",
    "## Foundations of Machine Learning\n",
    "## Do Q1 and one other question"
   ]
  },
  {
   "cell_type": "markdown",
   "id": "25bf83c6-ff44-42d6-9b33-8be1b945860d",
   "metadata": {},
   "source": [
    "**Q1.** Load `./data/Q1_clean.csv`. The data include\n",
    "\n",
    "- `Price` per night\n",
    "- `Review Scores Rating`: The average rating for the property\n",
    "- `Neighbourhood `: The bourough of NYC. Note the space, or rename the variable.\n",
    "- `Property Type`: The kind of dwelling\n",
    "- `Room Type`: The kind of space being rented\n",
    "\n",
    "1. Compute the average prices and scores by `Neighbourhood `; which bourough is the most expensive on average? Create a kernel density plot of price and log price, grouping by `Neighbourhood `."
   ]
  },
  {
   "cell_type": "code",
   "execution_count": 8,
   "id": "a4d687ad-ee87-4497-a562-104420970bd3",
   "metadata": {
    "tags": []
   },
   "outputs": [
    {
     "data": {
      "text/html": [
       "<div>\n",
       "<style scoped>\n",
       "    .dataframe tbody tr th:only-of-type {\n",
       "        vertical-align: middle;\n",
       "    }\n",
       "\n",
       "    .dataframe tbody tr th {\n",
       "        vertical-align: top;\n",
       "    }\n",
       "\n",
       "    .dataframe thead th {\n",
       "        text-align: right;\n",
       "    }\n",
       "</style>\n",
       "<table border=\"1\" class=\"dataframe\">\n",
       "  <thead>\n",
       "    <tr style=\"text-align: right;\">\n",
       "      <th></th>\n",
       "      <th>Price</th>\n",
       "      <th>Review Scores Rating</th>\n",
       "      <th>Neighborhood</th>\n",
       "      <th>Property Type</th>\n",
       "      <th>Room Type</th>\n",
       "    </tr>\n",
       "  </thead>\n",
       "  <tbody>\n",
       "    <tr>\n",
       "      <th>0</th>\n",
       "      <td>549</td>\n",
       "      <td>96.0</td>\n",
       "      <td>Manhattan</td>\n",
       "      <td>Apartment</td>\n",
       "      <td>Private room</td>\n",
       "    </tr>\n",
       "    <tr>\n",
       "      <th>1</th>\n",
       "      <td>149</td>\n",
       "      <td>100.0</td>\n",
       "      <td>Brooklyn</td>\n",
       "      <td>Apartment</td>\n",
       "      <td>Entire home/apt</td>\n",
       "    </tr>\n",
       "    <tr>\n",
       "      <th>2</th>\n",
       "      <td>250</td>\n",
       "      <td>100.0</td>\n",
       "      <td>Manhattan</td>\n",
       "      <td>Apartment</td>\n",
       "      <td>Entire home/apt</td>\n",
       "    </tr>\n",
       "    <tr>\n",
       "      <th>3</th>\n",
       "      <td>90</td>\n",
       "      <td>94.0</td>\n",
       "      <td>Brooklyn</td>\n",
       "      <td>Apartment</td>\n",
       "      <td>Private room</td>\n",
       "    </tr>\n",
       "    <tr>\n",
       "      <th>4</th>\n",
       "      <td>270</td>\n",
       "      <td>90.0</td>\n",
       "      <td>Manhattan</td>\n",
       "      <td>Apartment</td>\n",
       "      <td>Entire home/apt</td>\n",
       "    </tr>\n",
       "  </tbody>\n",
       "</table>\n",
       "</div>"
      ],
      "text/plain": [
       "   Price  Review Scores Rating Neighborhood Property Type        Room Type\n",
       "0    549                  96.0    Manhattan     Apartment     Private room\n",
       "1    149                 100.0     Brooklyn     Apartment  Entire home/apt\n",
       "2    250                 100.0    Manhattan     Apartment  Entire home/apt\n",
       "3     90                  94.0     Brooklyn     Apartment     Private room\n",
       "4    270                  90.0    Manhattan     Apartment  Entire home/apt"
      ]
     },
     "execution_count": 8,
     "metadata": {},
     "output_type": "execute_result"
    }
   ],
   "source": [
    "import numpy as np\n",
    "import pandas as pd\n",
    "import seaborn as sns\n",
    "import matplotlib.pyplot as plt\n",
    "\n",
    "df = pd.read_csv('./data/Q1_clean.csv', low_memory=False)\n",
    "df = df.rename(columns={'Neighbourhood ': 'Neighborhood'})\n",
    "df.head()"
   ]
  },
  {
   "cell_type": "code",
   "execution_count": 17,
   "id": "85e05207-a6ff-4d80-a4f6-3fedb22312f2",
   "metadata": {
    "tags": []
   },
   "outputs": [
    {
     "data": {
      "text/html": [
       "<div>\n",
       "<style scoped>\n",
       "    .dataframe tbody tr th:only-of-type {\n",
       "        vertical-align: middle;\n",
       "    }\n",
       "\n",
       "    .dataframe tbody tr th {\n",
       "        vertical-align: top;\n",
       "    }\n",
       "\n",
       "    .dataframe thead tr th {\n",
       "        text-align: left;\n",
       "    }\n",
       "\n",
       "    .dataframe thead tr:last-of-type th {\n",
       "        text-align: right;\n",
       "    }\n",
       "</style>\n",
       "<table border=\"1\" class=\"dataframe\">\n",
       "  <thead>\n",
       "    <tr>\n",
       "      <th></th>\n",
       "      <th colspan=\"8\" halign=\"left\">Price</th>\n",
       "      <th colspan=\"8\" halign=\"left\">Review Scores Rating</th>\n",
       "    </tr>\n",
       "    <tr>\n",
       "      <th></th>\n",
       "      <th>count</th>\n",
       "      <th>mean</th>\n",
       "      <th>std</th>\n",
       "      <th>min</th>\n",
       "      <th>25%</th>\n",
       "      <th>50%</th>\n",
       "      <th>75%</th>\n",
       "      <th>max</th>\n",
       "      <th>count</th>\n",
       "      <th>mean</th>\n",
       "      <th>std</th>\n",
       "      <th>min</th>\n",
       "      <th>25%</th>\n",
       "      <th>50%</th>\n",
       "      <th>75%</th>\n",
       "      <th>max</th>\n",
       "    </tr>\n",
       "    <tr>\n",
       "      <th>Neighborhood</th>\n",
       "      <th></th>\n",
       "      <th></th>\n",
       "      <th></th>\n",
       "      <th></th>\n",
       "      <th></th>\n",
       "      <th></th>\n",
       "      <th></th>\n",
       "      <th></th>\n",
       "      <th></th>\n",
       "      <th></th>\n",
       "      <th></th>\n",
       "      <th></th>\n",
       "      <th></th>\n",
       "      <th></th>\n",
       "      <th></th>\n",
       "      <th></th>\n",
       "    </tr>\n",
       "  </thead>\n",
       "  <tbody>\n",
       "    <tr>\n",
       "      <th>Bronx</th>\n",
       "      <td>217.0</td>\n",
       "      <td>75.276498</td>\n",
       "      <td>39.755468</td>\n",
       "      <td>10.0</td>\n",
       "      <td>50.00</td>\n",
       "      <td>60.0</td>\n",
       "      <td>90.0</td>\n",
       "      <td>244.0</td>\n",
       "      <td>217.0</td>\n",
       "      <td>91.654378</td>\n",
       "      <td>8.169239</td>\n",
       "      <td>60.0</td>\n",
       "      <td>88.0</td>\n",
       "      <td>93.0</td>\n",
       "      <td>99.0</td>\n",
       "      <td>100.0</td>\n",
       "    </tr>\n",
       "    <tr>\n",
       "      <th>Brooklyn</th>\n",
       "      <td>8487.0</td>\n",
       "      <td>127.747378</td>\n",
       "      <td>106.038466</td>\n",
       "      <td>20.0</td>\n",
       "      <td>75.00</td>\n",
       "      <td>100.0</td>\n",
       "      <td>150.0</td>\n",
       "      <td>4500.0</td>\n",
       "      <td>8487.0</td>\n",
       "      <td>92.363497</td>\n",
       "      <td>8.656563</td>\n",
       "      <td>20.0</td>\n",
       "      <td>90.0</td>\n",
       "      <td>94.0</td>\n",
       "      <td>100.0</td>\n",
       "      <td>100.0</td>\n",
       "    </tr>\n",
       "    <tr>\n",
       "      <th>Manhattan</th>\n",
       "      <td>11763.0</td>\n",
       "      <td>183.664286</td>\n",
       "      <td>170.434606</td>\n",
       "      <td>25.0</td>\n",
       "      <td>103.00</td>\n",
       "      <td>150.0</td>\n",
       "      <td>214.0</td>\n",
       "      <td>10000.0</td>\n",
       "      <td>11763.0</td>\n",
       "      <td>91.801496</td>\n",
       "      <td>8.840889</td>\n",
       "      <td>20.0</td>\n",
       "      <td>88.0</td>\n",
       "      <td>93.0</td>\n",
       "      <td>99.0</td>\n",
       "      <td>100.0</td>\n",
       "    </tr>\n",
       "    <tr>\n",
       "      <th>Queens</th>\n",
       "      <td>1590.0</td>\n",
       "      <td>96.857233</td>\n",
       "      <td>61.712648</td>\n",
       "      <td>25.0</td>\n",
       "      <td>60.00</td>\n",
       "      <td>80.0</td>\n",
       "      <td>115.0</td>\n",
       "      <td>950.0</td>\n",
       "      <td>1590.0</td>\n",
       "      <td>91.549057</td>\n",
       "      <td>9.895860</td>\n",
       "      <td>20.0</td>\n",
       "      <td>88.0</td>\n",
       "      <td>94.0</td>\n",
       "      <td>100.0</td>\n",
       "      <td>100.0</td>\n",
       "    </tr>\n",
       "    <tr>\n",
       "      <th>Staten Island</th>\n",
       "      <td>96.0</td>\n",
       "      <td>146.166667</td>\n",
       "      <td>508.462029</td>\n",
       "      <td>35.0</td>\n",
       "      <td>54.75</td>\n",
       "      <td>71.0</td>\n",
       "      <td>99.0</td>\n",
       "      <td>5000.0</td>\n",
       "      <td>96.0</td>\n",
       "      <td>90.843750</td>\n",
       "      <td>9.137923</td>\n",
       "      <td>40.0</td>\n",
       "      <td>87.0</td>\n",
       "      <td>92.0</td>\n",
       "      <td>97.0</td>\n",
       "      <td>100.0</td>\n",
       "    </tr>\n",
       "  </tbody>\n",
       "</table>\n",
       "</div>"
      ],
      "text/plain": [
       "                 Price                                                      \\\n",
       "                 count        mean         std   min     25%    50%    75%   \n",
       "Neighborhood                                                                 \n",
       "Bronx            217.0   75.276498   39.755468  10.0   50.00   60.0   90.0   \n",
       "Brooklyn        8487.0  127.747378  106.038466  20.0   75.00  100.0  150.0   \n",
       "Manhattan      11763.0  183.664286  170.434606  25.0  103.00  150.0  214.0   \n",
       "Queens          1590.0   96.857233   61.712648  25.0   60.00   80.0  115.0   \n",
       "Staten Island     96.0  146.166667  508.462029  35.0   54.75   71.0   99.0   \n",
       "\n",
       "                       Review Scores Rating                                   \\\n",
       "                   max                count       mean       std   min   25%   \n",
       "Neighborhood                                                                   \n",
       "Bronx            244.0                217.0  91.654378  8.169239  60.0  88.0   \n",
       "Brooklyn        4500.0               8487.0  92.363497  8.656563  20.0  90.0   \n",
       "Manhattan      10000.0              11763.0  91.801496  8.840889  20.0  88.0   \n",
       "Queens           950.0               1590.0  91.549057  9.895860  20.0  88.0   \n",
       "Staten Island   5000.0                 96.0  90.843750  9.137923  40.0  87.0   \n",
       "\n",
       "                                   \n",
       "                50%    75%    max  \n",
       "Neighborhood                       \n",
       "Bronx          93.0   99.0  100.0  \n",
       "Brooklyn       94.0  100.0  100.0  \n",
       "Manhattan      93.0   99.0  100.0  \n",
       "Queens         94.0  100.0  100.0  \n",
       "Staten Island  92.0   97.0  100.0  "
      ]
     },
     "execution_count": 17,
     "metadata": {},
     "output_type": "execute_result"
    }
   ],
   "source": [
    "df.groupby('Neighborhood').describe()"
   ]
  },
  {
   "cell_type": "code",
   "execution_count": 18,
   "id": "2dbbe746-fec7-41a0-b3a5-3585dea0aa40",
   "metadata": {
    "tags": []
   },
   "outputs": [
    {
     "data": {
      "image/png": "[encoded data removed]",
      "text/plain": [
       "<Figure size 640x480 with 1 Axes>"
      ]
     },
     "metadata": {},
     "output_type": "display_data"
    },
    {
     "data": {
      "image/png": "[encoded data removed]",
      "text/plain": [
       "<Figure size 640x480 with 1 Axes>"
      ]
     },
     "metadata": {},
     "output_type": "display_data"
    }
   ],
   "source": [
    "sns.kdeplot(data=df,x=df['Price'],hue=df['Neighborhood'])\n",
    "plt.show()\n",
    "\n",
    "sns.kdeplot(data=df,x=np.log(df['Price']),hue=df['Neighborhood'])\n",
    "plt.show()"
   ]
  },
  {
   "cell_type": "markdown",
   "id": "c4a83256-eebb-40d5-9d15-3d61fd6ba86c",
   "metadata": {},
   "source": [
    ">Manhattan has the highest mean, median, and max price listing, with the average price being $184."
   ]
  },
  {
   "cell_type": "markdown",
   "id": "06d84b5b-5c1b-467b-8ff0-7e0830babab6",
   "metadata": {
    "tags": []
   },
   "source": [
    "2. Regress price on `Neighbourhood ` by creating the appropriate dummy/one-hot-encoded variables, without an intercept in the linear model and using all the data. Compare the coefficients in the regression to the table from part 1. What pattern do you see? What are the coefficients in a regression of a continuous variable on one categorical variable?"
   ]
  },
  {
   "cell_type": "code",
   "execution_count": 25,
   "id": "b3d88c9e-f92e-4839-8157-f869cc2844ad",
   "metadata": {
    "tags": []
   },
   "outputs": [
    {
     "data": {
      "text/html": [
       "<div>\n",
       "<style scoped>\n",
       "    .dataframe tbody tr th:only-of-type {\n",
       "        vertical-align: middle;\n",
       "    }\n",
       "\n",
       "    .dataframe tbody tr th {\n",
       "        vertical-align: top;\n",
       "    }\n",
       "\n",
       "    .dataframe thead th {\n",
       "        text-align: right;\n",
       "    }\n",
       "</style>\n",
       "<table border=\"1\" class=\"dataframe\">\n",
       "  <thead>\n",
       "    <tr style=\"text-align: right;\">\n",
       "      <th></th>\n",
       "      <th>variable</th>\n",
       "      <th>coefficient</th>\n",
       "    </tr>\n",
       "  </thead>\n",
       "  <tbody>\n",
       "    <tr>\n",
       "      <th>0</th>\n",
       "      <td>Bronx</td>\n",
       "      <td>75.276498</td>\n",
       "    </tr>\n",
       "    <tr>\n",
       "      <th>1</th>\n",
       "      <td>Brooklyn</td>\n",
       "      <td>127.747378</td>\n",
       "    </tr>\n",
       "    <tr>\n",
       "      <th>2</th>\n",
       "      <td>Manhattan</td>\n",
       "      <td>183.664286</td>\n",
       "    </tr>\n",
       "    <tr>\n",
       "      <th>3</th>\n",
       "      <td>Queens</td>\n",
       "      <td>96.857233</td>\n",
       "    </tr>\n",
       "    <tr>\n",
       "      <th>4</th>\n",
       "      <td>Staten Island</td>\n",
       "      <td>146.166667</td>\n",
       "    </tr>\n",
       "  </tbody>\n",
       "</table>\n",
       "</div>"
      ],
      "text/plain": [
       "        variable  coefficient\n",
       "0          Bronx    75.276498\n",
       "1       Brooklyn   127.747378\n",
       "2      Manhattan   183.664286\n",
       "3         Queens    96.857233\n",
       "4  Staten Island   146.166667"
      ]
     },
     "execution_count": 25,
     "metadata": {},
     "output_type": "execute_result"
    }
   ],
   "source": [
    "from sklearn.linear_model import LinearRegression\n",
    "\n",
    "# assign X and Y data\n",
    "y = df['Price']\n",
    "x = pd.get_dummies(df['Neighborhood'],dtype='int')\n",
    "\n",
    "regression = LinearRegression(fit_intercept=False).fit(x, y) # computes the regression\n",
    "results = pd.DataFrame({'variable':regression.feature_names_in_, 'coefficient': regression.coef_}) # Regression coefficients (gotten from notes)\n",
    "results"
   ]
  },
  {
   "cell_type": "markdown",
   "id": "ee2bf8aa-6d43-475f-b5e0-bb9c8d07e5af",
   "metadata": {},
   "source": [
    ">The regression coefficients directly match up with the computed mean grouped by neighborhood. This makes sense because all the price data was used and it was only looking at neighborhood, so it should be a perfect predictor of the given data. Thus the coefficients of a continuous on categorical regression is just the mean for each variable."
   ]
  },
  {
   "cell_type": "markdown",
   "id": "c9356c60-2c52-48e2-80db-873fe77b6d41",
   "metadata": {},
   "source": [
    "3. Repeat part 2, but leave an intercept in the linear model. How do you have to handle the creation of the dummies differently? What is the intercept? Interpret the coefficients. How can I get the coefficients in part 2 from these new coefficients?"
   ]
  },
  {
   "cell_type": "code",
   "execution_count": 24,
   "id": "a8f0aec3-4e10-458a-9cfc-e7d12d1138cd",
   "metadata": {
    "tags": []
   },
   "outputs": [
    {
     "name": "stdout",
     "output_type": "stream",
     "text": [
      "75.2764976958528\n"
     ]
    },
    {
     "data": {
      "text/html": [
       "<div>\n",
       "<style scoped>\n",
       "    .dataframe tbody tr th:only-of-type {\n",
       "        vertical-align: middle;\n",
       "    }\n",
       "\n",
       "    .dataframe tbody tr th {\n",
       "        vertical-align: top;\n",
       "    }\n",
       "\n",
       "    .dataframe thead th {\n",
       "        text-align: right;\n",
       "    }\n",
       "</style>\n",
       "<table border=\"1\" class=\"dataframe\">\n",
       "  <thead>\n",
       "    <tr style=\"text-align: right;\">\n",
       "      <th></th>\n",
       "      <th>variable</th>\n",
       "      <th>coefficient</th>\n",
       "    </tr>\n",
       "  </thead>\n",
       "  <tbody>\n",
       "    <tr>\n",
       "      <th>0</th>\n",
       "      <td>Brooklyn</td>\n",
       "      <td>52.470881</td>\n",
       "    </tr>\n",
       "    <tr>\n",
       "      <th>1</th>\n",
       "      <td>Manhattan</td>\n",
       "      <td>108.387789</td>\n",
       "    </tr>\n",
       "    <tr>\n",
       "      <th>2</th>\n",
       "      <td>Queens</td>\n",
       "      <td>21.580735</td>\n",
       "    </tr>\n",
       "    <tr>\n",
       "      <th>3</th>\n",
       "      <td>Staten Island</td>\n",
       "      <td>70.890169</td>\n",
       "    </tr>\n",
       "  </tbody>\n",
       "</table>\n",
       "</div>"
      ],
      "text/plain": [
       "        variable  coefficient\n",
       "0       Brooklyn    52.470881\n",
       "1      Manhattan   108.387789\n",
       "2         Queens    21.580735\n",
       "3  Staten Island    70.890169"
      ]
     },
     "execution_count": 24,
     "metadata": {},
     "output_type": "execute_result"
    }
   ],
   "source": [
    "# assign X and Y data\n",
    "y = df['Price']\n",
    "x = pd.get_dummies(df['Neighborhood'],dtype='int',drop_first=True) # dropping first means intercept can stay in...removes multicolinearity\n",
    "\n",
    "regression = LinearRegression().fit(x, y) # computes the regression\n",
    "results = pd.DataFrame({'variable':regression.feature_names_in_, 'coefficient': regression.coef_}) # Regression coefficients (gotten from notes)\n",
    "print(regression.intercept_)\n",
    "results"
   ]
  },
  {
   "cell_type": "markdown",
   "id": "d6ab5469-ec69-4002-9cc0-c4f6d4a25420",
   "metadata": {},
   "source": [
    "> The intercept is 75.277, which is the mean value/coefficient for the Bronx price. All of the variables are being compared to this value, so adding the intercept to each coefficient yields the true mean. `(regression.coef_ + regression.intercept_)`"
   ]
  },
  {
   "cell_type": "markdown",
   "id": "cb3dfb59-9593-46a0-95f7-0e257bfadc37",
   "metadata": {},
   "source": [
    "4. Split the sample 80/20 into a training and a test set. Run a regression of `Price` on `Review Scores Rating` and `Neighbourhood `. What is the $R^2$ and RMSE on the test set? What is the coefficient on `Review Scores Rating`? What is the most expensive kind of property you can rent?"
   ]
  },
  {
   "cell_type": "code",
   "execution_count": 28,
   "id": "cdec4504-1155-4fd3-9a26-51c51797cfa0",
   "metadata": {
    "tags": []
   },
   "outputs": [
    {
     "name": "stdout",
     "output_type": "stream",
     "text": [
      "Rsq:  0.06701086106947296\n",
      "Rmse:  125.01092061382933\n"
     ]
    },
    {
     "data": {
      "text/html": [
       "<div>\n",
       "<style scoped>\n",
       "    .dataframe tbody tr th:only-of-type {\n",
       "        vertical-align: middle;\n",
       "    }\n",
       "\n",
       "    .dataframe tbody tr th {\n",
       "        vertical-align: top;\n",
       "    }\n",
       "\n",
       "    .dataframe thead th {\n",
       "        text-align: right;\n",
       "    }\n",
       "</style>\n",
       "<table border=\"1\" class=\"dataframe\">\n",
       "  <thead>\n",
       "    <tr style=\"text-align: right;\">\n",
       "      <th></th>\n",
       "      <th>variable</th>\n",
       "      <th>coefficient</th>\n",
       "    </tr>\n",
       "  </thead>\n",
       "  <tbody>\n",
       "    <tr>\n",
       "      <th>0</th>\n",
       "      <td>Review Scores Rating</td>\n",
       "      <td>1.032257</td>\n",
       "    </tr>\n",
       "    <tr>\n",
       "      <th>1</th>\n",
       "      <td>Bronx</td>\n",
       "      <td>-17.261392</td>\n",
       "    </tr>\n",
       "    <tr>\n",
       "      <th>2</th>\n",
       "      <td>Brooklyn</td>\n",
       "      <td>32.180888</td>\n",
       "    </tr>\n",
       "    <tr>\n",
       "      <th>3</th>\n",
       "      <td>Manhattan</td>\n",
       "      <td>89.421020</td>\n",
       "    </tr>\n",
       "    <tr>\n",
       "      <th>4</th>\n",
       "      <td>Queens</td>\n",
       "      <td>4.050208</td>\n",
       "    </tr>\n",
       "    <tr>\n",
       "      <th>5</th>\n",
       "      <td>Staten Island</td>\n",
       "      <td>61.576393</td>\n",
       "    </tr>\n",
       "  </tbody>\n",
       "</table>\n",
       "</div>"
      ],
      "text/plain": [
       "               variable  coefficient\n",
       "0  Review Scores Rating     1.032257\n",
       "1                 Bronx   -17.261392\n",
       "2              Brooklyn    32.180888\n",
       "3             Manhattan    89.421020\n",
       "4                Queens     4.050208\n",
       "5         Staten Island    61.576393"
      ]
     },
     "execution_count": 28,
     "metadata": {},
     "output_type": "execute_result"
    }
   ],
   "source": [
    "from sklearn import linear_model\n",
    "from sklearn.model_selection import train_test_split\n",
    "\n",
    "y = df['Price']\n",
    "x = df.loc[:,['Neighborhood','Review Scores Rating']]\n",
    "\n",
    "x_train, x_test, y_train, y_test = train_test_split(x,y,test_size=.2,random_state=100)\n",
    "\n",
    "# was getting weird answers, had to look at solutions. Forgot to turn Neighborhood into a dummy variable and concat dataframes\n",
    "z_train = pd.concat([x_train['Review Scores Rating'], pd.get_dummies(x_train['Neighborhood'], dtype='int')], axis = 1)\n",
    "z_test = pd.concat([x_test['Review Scores Rating'], pd.get_dummies(x_test['Neighborhood'], dtype='int')], axis = 1)\n",
    "\n",
    "regression = LinearRegression(fit_intercept=False).fit(z_train, y_train) # computes the regression\n",
    "\n",
    "# does the predictions\n",
    "y_hat = regression.predict(z_test)\n",
    "\n",
    "# prints R^2, RMSE, and Coefficients\n",
    "rmse = np.sqrt(np.mean((y_test-y_hat)**2))\n",
    "print('Rsq: ',regression.score(z_test,y_test))\n",
    "print('Rmse: ',rmse)\n",
    "results = pd.DataFrame({'variable':regression.feature_names_in_, 'coefficient': regression.coef_}) # Regression coefficients (gotten from notes)\n",
    "results"
   ]
  },
  {
   "cell_type": "markdown",
   "id": "a280363d-92d7-41e5-a536-573edb0c61a5",
   "metadata": {},
   "source": [
    "> 0 variable is Coefficient * x, and add the coefficient to get the true predicted price. With a max score of 100 and the highest coefficient belonging to Manhattan at 89.42, the price would be 100 * 1.03 + 89.42 = $192.42"
   ]
  },
  {
   "cell_type": "markdown",
   "id": "1936f53b-c3fb-4958-8453-46696d082d1f",
   "metadata": {},
   "source": [
    "5. Split the sample 80/20 into a training and a test set. Run a regression of `Price` on `Review Scores Rating` and `Neighbourhood ` and `Property Type`. What is the $R^2$ and RMSE on the test set? What is the coefficient on `Review Scores Rating`? What is the most expensive kind of property you can rent?"
   ]
  },
  {
   "cell_type": "code",
   "execution_count": 40,
   "id": "b64bc839-ca2f-453e-8a61-565af9a8ed03",
   "metadata": {
    "tags": []
   },
   "outputs": [
    {
     "name": "stdout",
     "output_type": "stream",
     "text": [
      "Rsq:  0.22035348129282317\n",
      "Rmse:  114.27692123130633\n"
     ]
    },
    {
     "data": {
      "text/html": [
       "<div>\n",
       "<style scoped>\n",
       "    .dataframe tbody tr th:only-of-type {\n",
       "        vertical-align: middle;\n",
       "    }\n",
       "\n",
       "    .dataframe tbody tr th {\n",
       "        vertical-align: top;\n",
       "    }\n",
       "\n",
       "    .dataframe thead th {\n",
       "        text-align: right;\n",
       "    }\n",
       "</style>\n",
       "<table border=\"1\" class=\"dataframe\">\n",
       "  <thead>\n",
       "    <tr style=\"text-align: right;\">\n",
       "      <th></th>\n",
       "      <th>variable</th>\n",
       "      <th>coefficient</th>\n",
       "    </tr>\n",
       "  </thead>\n",
       "  <tbody>\n",
       "    <tr>\n",
       "      <th>0</th>\n",
       "      <td>Review Scores Rating</td>\n",
       "      <td>0.626912</td>\n",
       "    </tr>\n",
       "    <tr>\n",
       "      <th>1</th>\n",
       "      <td>Bronx</td>\n",
       "      <td>-13.022765</td>\n",
       "    </tr>\n",
       "    <tr>\n",
       "      <th>2</th>\n",
       "      <td>Brooklyn</td>\n",
       "      <td>10.378456</td>\n",
       "    </tr>\n",
       "    <tr>\n",
       "      <th>3</th>\n",
       "      <td>Manhattan</td>\n",
       "      <td>53.693304</td>\n",
       "    </tr>\n",
       "    <tr>\n",
       "      <th>4</th>\n",
       "      <td>Queens</td>\n",
       "      <td>-6.833330</td>\n",
       "    </tr>\n",
       "    <tr>\n",
       "      <th>5</th>\n",
       "      <td>Staten Island</td>\n",
       "      <td>50.003022</td>\n",
       "    </tr>\n",
       "    <tr>\n",
       "      <th>6</th>\n",
       "      <td>Entire home/apt</td>\n",
       "      <td>110.617820</td>\n",
       "    </tr>\n",
       "    <tr>\n",
       "      <th>7</th>\n",
       "      <td>Private room</td>\n",
       "      <td>3.101341</td>\n",
       "    </tr>\n",
       "    <tr>\n",
       "      <th>8</th>\n",
       "      <td>Shared room</td>\n",
       "      <td>-19.500474</td>\n",
       "    </tr>\n",
       "  </tbody>\n",
       "</table>\n",
       "</div>"
      ],
      "text/plain": [
       "               variable  coefficient\n",
       "0  Review Scores Rating     0.626912\n",
       "1                 Bronx   -13.022765\n",
       "2              Brooklyn    10.378456\n",
       "3             Manhattan    53.693304\n",
       "4                Queens    -6.833330\n",
       "5         Staten Island    50.003022\n",
       "6       Entire home/apt   110.617820\n",
       "7          Private room     3.101341\n",
       "8           Shared room   -19.500474"
      ]
     },
     "execution_count": 40,
     "metadata": {},
     "output_type": "execute_result"
    }
   ],
   "source": [
    "# do the same thing as part 4, just add property type and make sure to make it a dummy\n",
    "\n",
    "y = df['Price']\n",
    "x = df.loc[:,['Review Scores Rating','Neighborhood','Room Type']]\n",
    "\n",
    "x_train, x_test, y_train, y_test = train_test_split(x,y,test_size=.2,random_state=100)\n",
    "\n",
    "z_train = pd.concat([x_train['Review Scores Rating'], \n",
    "                    pd.get_dummies(x_train['Neighborhood'], dtype='int'),\n",
    "                    pd.get_dummies(x_train['Room Type'], dtype='int')],\n",
    "                    axis = 1)\n",
    "z_test = pd.concat([x_test['Review Scores Rating'], \n",
    "                    pd.get_dummies(x_test['Neighborhood'], dtype='int'),\n",
    "                    pd.get_dummies(x_test['Room Type'], dtype='int')],\n",
    "                    axis = 1)\n",
    "\n",
    "regression = linear_model.LinearRegression(fit_intercept=False).fit(z_train, y_train) # computes the regression\n",
    "\n",
    "# does the predictions\n",
    "y_hat = regression.predict(z_test)\n",
    "\n",
    "# prints R^2, RMSE, and Coefficients\n",
    "rmse = np.sqrt(np.mean((y_test-y_hat)**2))\n",
    "print('Rsq: ',regression.score(z_test,y_test))\n",
    "print('Rmse: ',rmse)\n",
    "results = pd.DataFrame({'variable':regression.feature_names_in_, 'coefficient': regression.coef_}) # Regression coefficients (gotten from notes)\n",
    "results"
   ]
  },
  {
   "cell_type": "markdown",
   "id": "569d2f73-6ee7-4f25-b9a9-2d474151d515",
   "metadata": {},
   "source": [
    "> `Property Type` is asked for but that did not seem to work? Looked at solutions and `Room Type` was used instead. Highest predicted price is 0.626912 * 100 + 53.693304 + 110.617820 = $227"
   ]
  },
  {
   "cell_type": "markdown",
   "id": "25e6a7b2-455e-4eff-b206-f841d4748906",
   "metadata": {},
   "source": [
    "6. What does the coefficient on `Review Scores Rating` mean if it changes from part 4 to 5? Hint: Think about how multilple linear regression works.\n"
   ]
  },
  {
   "cell_type": "markdown",
   "id": "d731eec4-0f62-4f71-a668-c6145822b39b",
   "metadata": {},
   "source": [
    "> The coefficient decreases from 1.03 to 0.63. This decrease is caused by adding `Room Type` to the regression. Room type is able to explain some of the price variation, so some of the \"explanatory power\" that was previously put into `Review Scores Rating` was extracted and put into the room type. Review Scores Rating is a less weighted predictor once room type is added."
   ]
  },
  {
   "cell_type": "markdown",
   "id": "d0bedb79-b3d9-4db3-9b30-b92c9b618cec",
   "metadata": {},
   "source": [
    "**Q4.** This is a math question to review the derivation of the OLS estimator (but only if you are into that kind of thing!). We are going to do it slightly differently from what we did in class, though. We will use a linear predictor and minimize the Sum of Squared Errors, just as in class. But, we are going to de-mean $X$ first, creating another variable $z_i = x_i - \\bar{x}$ where \n",
    "$$\n",
    "\\bar{x} = \\dfrac{1}{N} \\sum_{i=1}^N x_i,\n",
    "$$\n",
    "so the model is $\\hat{y}_i = a + b z_i$ and the `SSE` is\n",
    "$$\n",
    "\\text{SSE}(a,b) = \\sum_{i=1}^N (y_i - a - bz_i)^2.\n",
    "$$\n",
    "\n",
    "  1. Take partial derivatives of the `SSE` with respect to $a$ and $b$. You should get\n",
    "\n",
    "\\begin{alignat*}{3}\n",
    "\\sum_{i=1}^N -2(y_i - a- bz_i) &=& 0 \\\\\n",
    "\\sum_{i=1}^N -2(y_i - a - bz_i)z_i &=& 0.\n",
    "\\end{alignat*}\n",
    "\n",
    "  2. Solve for the solutions to the above equations. Big hint: $\\bar{z} = 0$, since we subtracted the mean of $x$ from $x$ to get $z$. You should get\n",
    "\n",
    "\\begin{alignat*}{3}\n",
    "a^* &=& \\bar{y} \\\\\n",
    "b^* &=& \\dfrac{\\sum_{i=1}^N(y_i - \\bar{y})z_i}{\\sum_{i=1}^N z_i^2}.\n",
    "\\end{alignat*}\n",
    "\n",
    "  3. Substitute $z_i = x_i - \\bar{x}$ back into the above equations. You should get\n",
    "  \n",
    "\\begin{alignat*}{3}\n",
    "a^* &=& \\bar{y} \\\\\n",
    "b^* &=& \\dfrac{\\sum_{i=1}^N(y_i - \\bar{y})(x_i-\\bar{x})}{\\sum_{i=1}^N (x_i-\\bar{x})^2},\n",
    "\\end{alignat*}\n",
    "\n",
    "which can be written in terms of sample covariance and sample variance as:\n",
    "\n",
    "\\begin{alignat*}{3}\n",
    "a^* &=& \\bar{y} \\\\\n",
    "b^* &=& \\dfrac{\\text{cov}(x,y)}{\\text{var}(x)}.\n",
    "\\end{alignat*}\n",
    "\n",
    "This is typically the preferred way of expressing the OLS coefficients.\n",
    "\n",
    "4. When will $b^*$ be large or small, depending on the relationship between $x$ and $y$ and the amount of \"noise\"/variance in $x$? What does $a^*$ represent?\n",
    "5. Suppose you have measurement error in $x$ which artificially inflates its variance (e.g. bad data cleaning). What happens to the $b^*$ coefficient? How will affect your ability to predict? (This phenomenon is called **attenuation**.)"
   ]
  },
  {
   "cell_type": "markdown",
   "id": "f751e559-bec8-4a9b-879d-b426fcbfa59c",
   "metadata": {},
   "source": [
    "> I do not know how to use LaTeX, so I have attached an image of my proofs for parts 1-3 in the repository. b* will be large if the covariance between x and y is large and/or the variance in x is small, and vice versa for b* being small. Since a* = y_bar, a* represents the mean value of y. If a measurement error in x artificially infaltes its variance, b* will become quite small. This will lead to smaller predicted values than what is \"true\" in a narrower range of values."
   ]
  }
 ],
 "metadata": {
  "kernelspec": {
   "display_name": "Python 3 (ipykernel)",
   "language": "python",
   "name": "python3"
  },
  "language_info": {
   "codemirror_mode": {
    "name": "ipython",
    "version": 3
   },
   "file_extension": ".py",
   "mimetype": "text/x-python",
   "name": "python",
   "nbconvert_exporter": "python",
   "pygments_lexer": "ipython3",
   "version": "3.11.5"
  }
 },
 "nbformat": 4,
 "nbformat_minor": 5
}
